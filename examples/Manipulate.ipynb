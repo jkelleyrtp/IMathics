{
 "cells": [
  {
   "cell_type": "markdown",
   "metadata": {},
   "source": [
    "Manipulate\n",
    "==========\n",
    "Manipulate supports two forms, continuous and discrete."
   ]
  },
  {
   "cell_type": "code",
   "execution_count": 1,
   "metadata": {
    "collapsed": false
   },
   "outputs": [
    {
     "data": {
      "text/html": [
       "<math><mn>8</mn></math>"
      ],
      "text/latex": [
       "8"
      ],
      "text/plain": [
       "8"
      ]
     },
     "metadata": {},
     "output_type": "display_data"
    }
   ],
   "source": [
    "Manipulate[i ^ 3, {i, {2, x ^ 4, a}}]"
   ]
  },
  {
   "cell_type": "code",
   "execution_count": 2,
   "metadata": {
    "collapsed": false
   },
   "outputs": [
    {
     "data": {
      "text/html": [
       "<math><mn>0.841470984807896507</mn></math>"
      ],
      "text/latex": [
       "0.841470984807896507"
      ],
      "text/plain": [
       "0.841470984807896507"
      ]
     },
     "metadata": {},
     "output_type": "display_data"
    }
   ],
   "source": [
    "Manipulate[N[Sin[y]], {y, 1, 20, 2}]"
   ]
  },
  {
   "cell_type": "markdown",
   "metadata": {},
   "source": [
    "Multiple parameters can also be combined."
   ]
  },
  {
   "cell_type": "code",
   "execution_count": 3,
   "metadata": {
    "collapsed": false
   },
   "outputs": [
    {
     "data": {
      "text/html": [
       "<math><mrow><mo>-</mo> <mn>1.</mn></mrow></math>"
      ],
      "text/latex": [
       "-1."
      ],
      "text/plain": [
       "-1."
      ]
     },
     "metadata": {},
     "output_type": "display_data"
    }
   ],
   "source": [
    "Manipulate[i* x ^ y, {x, 1, 20}, {y, 1, 3}, {i, {-1, 1}}]"
   ]
  },
  {
   "cell_type": "markdown",
   "metadata": {},
   "source": [
    "Continuous manipulate also allows step increments:"
   ]
  },
  {
   "cell_type": "code",
   "execution_count": 4,
   "metadata": {
    "collapsed": false
   },
   "outputs": [
    {
     "data": {
      "text/html": [
       "<math><mrow><mo>-</mo> <mn>1.</mn></mrow></math>"
      ],
      "text/latex": [
       "-1."
      ],
      "text/plain": [
       "-1."
      ]
     },
     "metadata": {},
     "output_type": "display_data"
    }
   ],
   "source": [
    "Manipulate[x, {x, -1, 1, 0.2}]"
   ]
  },
  {
   "cell_type": "markdown",
   "metadata": {},
   "source": [
    "Labels\n",
    "======"
   ]
  },
  {
   "cell_type": "code",
   "execution_count": 5,
   "metadata": {
    "collapsed": false
   },
   "outputs": [
    {
     "data": {
      "text/html": [
       "<math><mn>0.5</mn></math>"
      ],
      "text/latex": [
       "0.5"
      ],
      "text/plain": [
       "0.5"
      ]
     },
     "metadata": {},
     "output_type": "display_data"
    }
   ],
   "source": [
    "Manipulate[Limit[Sin[k x] / x, x -> 0, Direction -> i], {{k, 0.5, \"wavenum.\"}, 0, 2}, {{i, -1, direction}, {-1, 1}}]"
   ]
  },
  {
   "cell_type": "markdown",
   "metadata": {},
   "source": [
    "Default values\n",
    "--------------\n",
    "\n",
    "Defaults can be given for both continuous and discrete manipulations:"
   ]
  },
  {
   "cell_type": "code",
   "execution_count": 6,
   "metadata": {
    "collapsed": false
   },
   "outputs": [
    {
     "data": {
      "text/html": [
       "<math><mn>0.7</mn></math>"
      ],
      "text/latex": [
       "0.7"
      ],
      "text/plain": [
       "0.7"
      ]
     },
     "metadata": {},
     "output_type": "display_data"
    }
   ],
   "source": [
    "Manipulate[x, {{x, 0.7}, -1, 1}]"
   ]
  },
  {
   "cell_type": "code",
   "execution_count": 7,
   "metadata": {
    "collapsed": false
   },
   "outputs": [
    {
     "data": {
      "text/html": [
       "<math><mi>b</mi></math>"
      ],
      "text/latex": [
       "b"
      ],
      "text/plain": [
       "b"
      ]
     },
     "metadata": {},
     "output_type": "display_data"
    }
   ],
   "source": [
    "Manipulate[i, {{i, b}, {a, b, c}}]"
   ]
  },
  {
   "cell_type": "markdown",
   "metadata": {},
   "source": [
    "Defaults are automatically limited to the given range for continuous and simply ignored for discrete."
   ]
  },
  {
   "cell_type": "code",
   "execution_count": 8,
   "metadata": {
    "collapsed": false
   },
   "outputs": [
    {
     "data": {
      "text/html": [
       "<math><mn>1.</mn></math>"
      ],
      "text/latex": [
       "1."
      ],
      "text/plain": [
       "1."
      ]
     },
     "metadata": {},
     "output_type": "display_data"
    }
   ],
   "source": [
    "Manipulate[x, {{x, 2}, 0, 1}]"
   ]
  },
  {
   "cell_type": "code",
   "execution_count": 9,
   "metadata": {
    "collapsed": false
   },
   "outputs": [
    {
     "data": {
      "text/html": [
       "<math><mi>a</mi></math>"
      ],
      "text/latex": [
       "a"
      ],
      "text/plain": [
       "a"
      ]
     },
     "metadata": {},
     "output_type": "display_data"
    }
   ],
   "source": [
    "Manipulate[i, {{i, c}, {a, b}}]"
   ]
  },
  {
   "cell_type": "markdown",
   "metadata": {},
   "source": [
    "Real vs Integer\n",
    "---------------\n",
    "One thing to be aware of is that when the limits and step size are integer values the output is integer valued. If no step is specified the default is Real valued."
   ]
  },
  {
   "cell_type": "code",
   "execution_count": 10,
   "metadata": {
    "collapsed": false
   },
   "outputs": [
    {
     "data": {
      "text/html": [
       "<math><mn>0.</mn></math>"
      ],
      "text/latex": [
       "0."
      ],
      "text/plain": [
       "0."
      ]
     },
     "metadata": {},
     "output_type": "display_data"
    }
   ],
   "source": [
    "Manipulate[x, {x, 0, 1}]     (* Real valued *)"
   ]
  },
  {
   "cell_type": "code",
   "execution_count": 11,
   "metadata": {
    "collapsed": false
   },
   "outputs": [
    {
     "data": {
      "text/html": [
       "<math><mn>0</mn></math>"
      ],
      "text/latex": [
       "0"
      ],
      "text/plain": [
       "0"
      ]
     },
     "metadata": {},
     "output_type": "display_data"
    }
   ],
   "source": [
    "Manipulate[x, {x, 0, 1, 1}]   (* Integer valued *)"
   ]
  },
  {
   "cell_type": "markdown",
   "metadata": {},
   "source": [
    "Error Handling\n",
    "=============="
   ]
  },
  {
   "cell_type": "markdown",
   "metadata": {},
   "source": [
    "Discrete\n",
    "--------"
   ]
  },
  {
   "cell_type": "code",
   "execution_count": 12,
   "metadata": {
    "collapsed": false
   },
   "outputs": [
    {
     "data": {
      "text/html": [
       "<math><mrow><mi>Manipulate</mi> <mo>[</mo> <mrow><mi>i</mi> <mo>,</mo> <mrow><mo>{</mo> <mrow><mi>i</mi> <mo>,</mo> <mrow><mo>{</mo> <mo>}</mo></mrow></mrow> <mo>}</mo></mrow></mrow> <mo>]</mo></mrow></math>"
      ],
      "text/latex": [
       "\\text{Manipulate}\\left[i,\\left\\{i,\\left\\{\\right\\}\\right\\}\\right]"
      ],
      "text/plain": [
       "Manipulate[i, {i, {}}]"
      ]
     },
     "execution_count": 12,
     "metadata": {},
     "output_type": "execute_result"
    }
   ],
   "source": [
    "Manipulate[i, {i, {}}]"
   ]
  },
  {
   "cell_type": "markdown",
   "metadata": {},
   "source": [
    "Continuous\n",
    "----------"
   ]
  },
  {
   "cell_type": "code",
   "execution_count": 13,
   "metadata": {
    "collapsed": false
   },
   "outputs": [
    {
     "name": "stderr",
     "output_type": "stream",
     "text": [
      "Manipulate::widgetargs: Illegal variable range or step parameters for x.\n"
     ]
    },
    {
     "data": {
      "text/html": [
       "<math><mrow><mi>Manipulate</mi> <mo>[</mo> <mrow><mi>x</mi> <mo>,</mo> <mrow><mo>{</mo> <mrow><mi>x</mi> <mo>,</mo> <mn>1</mn> <mo>,</mo> <mn>0</mn></mrow> <mo>}</mo></mrow></mrow> <mo>]</mo></mrow></math>"
      ],
      "text/latex": [
       "\\text{Manipulate}\\left[x,\\left\\{x,1,0\\right\\}\\right]"
      ],
      "text/plain": [
       "Manipulate[x, {x, 1, 0}]"
      ]
     },
     "execution_count": 13,
     "metadata": {},
     "output_type": "execute_result"
    }
   ],
   "source": [
    "Manipulate[x, {x, 1, 0}]  (* invalid range *)"
   ]
  },
  {
   "cell_type": "code",
   "execution_count": 14,
   "metadata": {
    "collapsed": false
   },
   "outputs": [
    {
     "name": "stderr",
     "output_type": "stream",
     "text": [
      "Manipulate::widgetargs: Illegal variable range or step parameters for x.\n"
     ]
    },
    {
     "data": {
      "text/html": [
       "<math><mrow><mi>Manipulate</mi> <mo>[</mo> <mrow><mi>x</mi> <mo>,</mo> <mrow><mo>{</mo> <mrow><mi>x</mi> <mo>,</mo> <mn>0</mn> <mo>,</mo> <mn>1</mn> <mo>,</mo> <mn>2</mn></mrow> <mo>}</mo></mrow></mrow> <mo>]</mo></mrow></math>"
      ],
      "text/latex": [
       "\\text{Manipulate}\\left[x,\\left\\{x,0,1,2\\right\\}\\right]"
      ],
      "text/plain": [
       "Manipulate[x, {x, 0, 1, 2}]"
      ]
     },
     "execution_count": 14,
     "metadata": {},
     "output_type": "execute_result"
    }
   ],
   "source": [
    "Manipulate[x, {x, 0, 1, 2}]  (* step larger than range *)"
   ]
  },
  {
   "cell_type": "code",
   "execution_count": null,
   "metadata": {
    "collapsed": true
   },
   "outputs": [],
   "source": []
  }
 ],
 "metadata": {
  "kernelspec": {
   "display_name": "mathics",
   "language": "Mathematica",
   "name": "mathics"
  },
  "language_info": {
   "mimetype": "text/x-mathematica",
   "name": "Mathematica",
   "version": "1.0.dev1"
  },
  "widgets": {
   "state": {
    "026c1992fa614ec0a9761a249e59037c": {
     "views": []
    },
    "0357e1f075b7402481b64e7d464cc606": {
     "views": []
    },
    "05222b7b25f34615b3bb2d719c274a0d": {
     "views": []
    },
    "05e904836529414bb34449e5a2782121": {
     "views": []
    },
    "06fd489ce47249b4a0b30eab16003a60": {
     "views": []
    },
    "0791372962324bc38f0d7b6ee2a005fe": {
     "views": []
    },
    "0a19ce1131504c61a207687f4547f3c9": {
     "views": []
    },
    "0b2b7bd62c114124a0461ec52d4d1e82": {
     "views": []
    },
    "0ba10bf872af4f5f9ed690d120605992": {
     "views": []
    },
    "0bcd19e600444f76883396a1deec012d": {
     "views": []
    },
    "0bdf2145ec82405da1ac8a111265a679": {
     "views": []
    },
    "0d2e6754e5284bc9986351b2d39f0bf6": {
     "views": []
    },
    "0dc5615ac7ae4b59a54ae50309597b4a": {
     "views": []
    },
    "0eb9235b9c70488aa728c62d213822e2": {
     "views": []
    },
    "0f29dc144b1c41eba9f755470538e51e": {
     "views": []
    },
    "10702109f89f49499d712479f6e2f385": {
     "views": []
    },
    "117c361777204d2b96a65e1601924eb4": {
     "views": []
    },
    "146bfcd564bc49b58ff2c6d29cd1170c": {
     "views": []
    },
    "195d923b1a7f41178dd455112bd30f86": {
     "views": []
    },
    "19c6c64f384c467d9229c25860087ba5": {
     "views": []
    },
    "1ab2043c7912440ea0e64f4d0062b7c4": {
     "views": []
    },
    "1abe76b8b5944f20bf67ba8aad4c395b": {
     "views": []
    },
    "1b0351a0f5254e7d99ec85b79dc2f1ab": {
     "views": []
    },
    "1c75e5611c884fc29e9cd37fdbd4aed9": {
     "views": []
    },
    "1d896ffc086c4f0b8a6450e3747ed474": {
     "views": []
    },
    "1eede62bc41e4643bf09aa8754138260": {
     "views": []
    },
    "20b569ad991b4461b095c58358f1670f": {
     "views": []
    },
    "20bc7d45b61447a99e604b88927e2d5b": {
     "views": []
    },
    "21f11de6557d45f6a76dc53f639fd88d": {
     "views": []
    },
    "2386f6bac723425db58dfe1af7a32f26": {
     "views": []
    },
    "23a097cdcefc4efe9911565440adc617": {
     "views": []
    },
    "251fecfc931c44cd9340e28283d248f1": {
     "views": [
      {
       "cell": {
        "cell_type": "code",
        "execution_count": 9,
        "metadata": {
         "collapsed": false,
         "trusted": true
        },
        "outputs": [
         {
          "data": {
           "text/html": "<math><mi>a</mi></math>",
           "text/latex": "a",
           "text/plain": "a"
          },
          "metadata": {},
          "output_type": "display_data"
         }
        ],
        "source": "Manipulate[i, {{i, c}, {a, b}}]"
       },
       "cell_index": 14,
       "root": true
      }
     ]
    },
    "2627f244aec048d9920a5a6d91d469ac": {
     "views": []
    },
    "2821a524c7d54b37b5064b62ff326531": {
     "views": []
    },
    "299348a367fd48ddb34cfb742293af74": {
     "views": []
    },
    "2ab05603062449278f4ad63da7fc4c5f": {
     "views": []
    },
    "2b1eaa6b5632443798d9c5de7472ba52": {
     "views": []
    },
    "2b3fbe6c5b324089bd24ed750c476424": {
     "views": []
    },
    "2e8458bfeef349c09181889986589822": {
     "views": []
    },
    "2f1071df52b44482b997e0113d81a372": {
     "views": []
    },
    "2f7232c828364904aa6c35d7f62bcec8": {
     "views": []
    },
    "2fcde1876d64469386ca930cc8b720ea": {
     "views": [
      {
       "cell": {
        "cell_type": "code",
        "execution_count": 11,
        "metadata": {
         "collapsed": false,
         "trusted": true
        },
        "outputs": [
         {
          "data": {
           "text/html": "<math><mn>0</mn></math>",
           "text/latex": "0",
           "text/plain": "0"
          },
          "metadata": {},
          "output_type": "display_data"
         }
        ],
        "source": "Manipulate[x, {x, 0, 1, 1}]   (* Integer valued *)"
       },
       "cell_index": 17,
       "root": true
      }
     ]
    },
    "2fe4836936ec4bc4a7e2af9221a8986b": {
     "views": []
    },
    "3352d88ed5434addb8f3db501b7aaa02": {
     "views": [
      {
       "cell": {
        "cell_type": "code",
        "execution_count": 8,
        "metadata": {
         "collapsed": false,
         "trusted": true
        },
        "outputs": [
         {
          "data": {
           "text/html": "<math><mn>1.</mn></math>",
           "text/latex": "1.",
           "text/plain": "1."
          },
          "metadata": {},
          "output_type": "display_data"
         }
        ],
        "source": "Manipulate[x, {{x, 2}, 0, 1}]"
       },
       "cell_index": 12,
       "root": true
      }
     ]
    },
    "3593604c9fa0405580e2f2a491c8dd08": {
     "views": []
    },
    "36ca97b4d3e648f58cd642965a0103ed": {
     "views": []
    },
    "38e6f3a995a842bb8812b923300cbcd6": {
     "views": []
    },
    "3987ab197edd4bd996b5002de165784e": {
     "views": []
    },
    "39b383987486459b9776ed3ef5b574ce": {
     "views": []
    },
    "3aeba51c3f4a4ccd941dfdfdf2011997": {
     "views": []
    },
    "3bdda0a5ca9b4ed0bb33a431b5db5c8d": {
     "views": []
    },
    "3d42fcaf80a44a2abfc7ceff1bf44a3f": {
     "views": []
    },
    "3e45cfe5c1db4423bf6d5f52297031d7": {
     "views": []
    },
    "3fe2896f210a41e495336a29dd0d26f6": {
     "views": []
    },
    "412a3d978f0b494c888654ef699714bb": {
     "views": []
    },
    "41c5c9fff6d44d8ba973662ea718d530": {
     "views": []
    },
    "42b960abe5a949e9997570e816aadbd6": {
     "views": []
    },
    "43095442ac23459cbe2b3b98f28522fb": {
     "views": []
    },
    "46318f43a96c45f2980df196672f4a45": {
     "views": []
    },
    "480644a291d6440fb002a2c11ed634fc": {
     "views": []
    },
    "494092915a4546d3a4e492154828471f": {
     "views": []
    },
    "4a5688fddcdd432f9982b18e58f68963": {
     "views": []
    },
    "4abae3262413459bbc256eab1ec8f553": {
     "views": []
    },
    "4b3ac697dfa64a479f3e89af38a96add": {
     "views": []
    },
    "4db05990c67d45eeaa58105f180c2a86": {
     "views": []
    },
    "4dc1e8baf8a94218a290bb6e207ded10": {
     "views": []
    },
    "4e1bb382fa9f4b299c4b1ff9e490e412": {
     "views": []
    },
    "4e53d6822cc8413ba870adb1501e80bd": {
     "views": []
    },
    "4f5c42eecce34948a152a58f808e0e12": {
     "views": [
      {
       "cell": {
        "cell_type": "code",
        "execution_count": 4,
        "metadata": {
         "collapsed": false,
         "trusted": true
        },
        "outputs": [
         {
          "data": {
           "text/html": "<math><mrow><mo>-</mo> <mn>1.</mn></mrow></math>",
           "text/latex": "-1.",
           "text/plain": "-1."
          },
          "metadata": {},
          "output_type": "display_data"
         }
        ],
        "source": "Manipulate[x, {x, -1, 1, 0.2}]"
       },
       "cell_index": 6,
       "root": true
      }
     ]
    },
    "5081cf4d144644b4ad0179ae6b979001": {
     "views": []
    },
    "510cd80bee5a42bd83ff0090cf0ee1dd": {
     "views": [
      {
       "cell": {
        "cell_type": "code",
        "execution_count": 3,
        "metadata": {
         "collapsed": false,
         "trusted": true
        },
        "outputs": [
         {
          "data": {
           "text/html": "<math><mrow><mo>-</mo> <mn>1.</mn></mrow></math>",
           "text/latex": "-1.",
           "text/plain": "-1."
          },
          "metadata": {},
          "output_type": "display_data"
         }
        ],
        "source": "Manipulate[i* x ^ y, {x, 1, 20}, {y, 1, 3}, {i, {-1, 1}}]"
       },
       "cell_index": 4,
       "root": true
      }
     ]
    },
    "520f76acf8894d1a801a6907b2b576aa": {
     "views": []
    },
    "52905c7d546542e1bc9beff4b7a898cd": {
     "views": []
    },
    "5317d0c9c91c493a8b3bd6551a897cee": {
     "views": []
    },
    "55b5a0238aef4b0d90181e2144645eeb": {
     "views": []
    },
    "59868c585c99441aac60fed4860bae55": {
     "views": []
    },
    "599dd6ad841d4cfb83d4c04f6f8ed4a3": {
     "views": []
    },
    "5cc1f22c549c4218bcc899773f3ad5ad": {
     "views": []
    },
    "5e154690d8554a6787934c446d93655b": {
     "views": []
    },
    "5ee0a42ebdff41f896b13945d8b85ecf": {
     "views": []
    },
    "5f1117ab45a94f29ac9fa30308611c1e": {
     "views": []
    },
    "5f5d1c7dfd1d43cba6b0311bacd76002": {
     "views": []
    },
    "5f8abb8060d5434dac261d4fc0f869af": {
     "views": []
    },
    "60412571e295455e9c9df5bf14810c0f": {
     "views": []
    },
    "61453be36f9b4922a924beca0f4ee07e": {
     "views": []
    },
    "616a235eeaf14561bd768de76251f4d0": {
     "views": []
    },
    "619728b40a7c4ce1bfd8f402bd6d1868": {
     "views": []
    },
    "61dc38bb7eb44e9bad3a62d34b64d762": {
     "views": []
    },
    "61f435b0038f441b92ca55e530428255": {
     "views": []
    },
    "6297391b57a04390849ea0ce2edf09ce": {
     "views": []
    },
    "631277e837314ccfa12cd508802b61db": {
     "views": []
    },
    "64d5bfef88dc467eaa7202ef7904d4ab": {
     "views": [
      {
       "cell": {
        "cell_type": "code",
        "execution_count": 1,
        "metadata": {
         "collapsed": false,
         "trusted": true
        },
        "outputs": [
         {
          "data": {
           "text/html": "<math><mn>8</mn></math>",
           "text/latex": "8",
           "text/plain": "8"
          },
          "metadata": {},
          "output_type": "display_data"
         }
        ],
        "source": "Manipulate[i ^ 3, {i, {2, x ^ 4, a}}]"
       },
       "cell_index": 1,
       "root": true
      }
     ]
    },
    "651b9d6aae774dc9b1228388cf50690a": {
     "views": []
    },
    "67ffdea3e44a4d8c844253137f8c4fb8": {
     "views": []
    },
    "691f168cb77845328b19a815d1603542": {
     "views": []
    },
    "69707c7953ee4f4992157751ffbf350b": {
     "views": []
    },
    "6a3619954da543f9b7ff92c7a2cd5bde": {
     "views": []
    },
    "6ce2c2d7bb074f82956e33aff3ac2eaa": {
     "views": []
    },
    "6d5584fc772c40ba95a3a58cd817cfdf": {
     "views": []
    },
    "6f1db610a186475b974a554ff09694f2": {
     "views": []
    },
    "6f2c621803044db0952fc2b666a3e2db": {
     "views": []
    },
    "6f984eef3ee8420c881cf3741b6c505c": {
     "views": []
    },
    "7215871375984de3bce9ebf803afc0a5": {
     "views": [
      {
       "cell": {
        "cell_type": "code",
        "execution_count": 5,
        "metadata": {
         "collapsed": false,
         "trusted": true
        },
        "outputs": [
         {
          "data": {
           "text/html": "<math><mn>0.5</mn></math>",
           "text/latex": "0.5",
           "text/plain": "0.5"
          },
          "metadata": {},
          "output_type": "display_data"
         }
        ],
        "source": "Manipulate[Limit[Sin[k x] / x, x -> 0, Direction -> i], {{k, 0.5, \"wavenum.\"}, 0, 2}, {{i, -1, direction}, {-1, 1}}]"
       },
       "cell_index": 8,
       "root": true
      }
     ]
    },
    "72f406c7af934ab783a030edd91bcb63": {
     "views": []
    },
    "72fbf2ea9baa47d1b54755802eaca619": {
     "views": []
    },
    "73a5047c50ac46c0a9ce68934e7e45a9": {
     "views": []
    },
    "7515c0c284254b0b9bbc42de171c8375": {
     "views": []
    },
    "763c6dbb02574d5ca129cd8a5037fbb7": {
     "views": []
    },
    "764efbee6ccc4242a41dc88c137fcb7c": {
     "views": []
    },
    "765a31a09a6644f1942c29d75eb39167": {
     "views": []
    },
    "772efb674fb347a0804c8e1f3c35738b": {
     "views": []
    },
    "784b06b9c0f74f979fea356370112ce3": {
     "views": [
      {
       "cell": {
        "cell_type": "code",
        "execution_count": 7,
        "metadata": {
         "collapsed": false,
         "trusted": true
        },
        "outputs": [
         {
          "data": {
           "text/html": "<math><mi>b</mi></math>",
           "text/latex": "b",
           "text/plain": "b"
          },
          "metadata": {},
          "output_type": "display_data"
         }
        ],
        "source": "Manipulate[i, {{i, b}, {a, b, c}}]"
       },
       "cell_index": 11,
       "root": true
      }
     ]
    },
    "78f2a4f0d11e4801a19a7ec2a736cdf2": {
     "views": []
    },
    "79a63a0a02af4b289fd112c63fb31193": {
     "views": []
    },
    "7a033c6ef81840ce8b23aac01dcdbde4": {
     "views": []
    },
    "7ab81f58f79648659d50ed25b3bf2ba6": {
     "views": []
    },
    "7acb49d4fb4e4d4bb341ffa60d5fdf55": {
     "views": []
    },
    "7c5864c98aeb4bca81ac114c62dac402": {
     "views": []
    },
    "7cb0326892634b69bbfafa48f098f1fc": {
     "views": [
      {
       "cell": {
        "cell_type": "code",
        "execution_count": 2,
        "metadata": {
         "collapsed": false,
         "trusted": true
        },
        "outputs": [
         {
          "data": {
           "text/html": "<math><mn>0.841470984807896507</mn></math>",
           "text/latex": "0.841470984807896507",
           "text/plain": "0.841470984807896507"
          },
          "metadata": {},
          "output_type": "display_data"
         }
        ],
        "source": "Manipulate[N[Sin[y]], {y, 1, 20, 2}]"
       },
       "cell_index": 2,
       "root": true
      }
     ]
    },
    "8147c363de264dec9602234e17232d24": {
     "views": []
    },
    "822beec147a94c53b1d5e6e465e5eaef": {
     "views": []
    },
    "833f12fa9e6d4100a1ed7343337ce50f": {
     "views": [
      {
       "cell": {
        "cell_type": "code",
        "execution_count": 5,
        "metadata": {
         "collapsed": false,
         "trusted": true
        },
        "outputs": [
         {
          "data": {
           "text/html": "<math><mn>0.5</mn></math>",
           "text/latex": "0.5",
           "text/plain": "0.5"
          },
          "metadata": {},
          "output_type": "display_data"
         }
        ],
        "source": "Manipulate[Limit[Sin[k x] / x, x -> 0, Direction -> i], {{k, 0.5, \"wavenum.\"}, 0, 2}, {{i, -1, direction}, {-1, 1}}]"
       },
       "cell_index": 8,
       "root": true
      }
     ]
    },
    "8b22a7ae65554f93b270b0d1632ad384": {
     "views": []
    },
    "8d5730eeed0145c2987e83a544678206": {
     "views": []
    },
    "8ebe58cc52804145af2cbab22958d2c9": {
     "views": []
    },
    "901b6802ee514674ac082b17a5022334": {
     "views": []
    },
    "913a77266377410b9c75e31434eb52c9": {
     "views": []
    },
    "93bf6843d531483c984cf6950ed95507": {
     "views": []
    },
    "93e8975db8a94f9ba316670ca917a8c5": {
     "views": []
    },
    "9483dd1ac1734282befbe8f4686b582c": {
     "views": []
    },
    "94a1fbea5451442ea5d3d7f58abe95ad": {
     "views": []
    },
    "94c74fdfcba5427ba59b8ba16ea0a4e8": {
     "views": []
    },
    "967e12c8350a449daa70ec4513f45761": {
     "views": []
    },
    "98c961236add4821b6b2833b512d3e57": {
     "views": []
    },
    "990cf4fca043405cae72e75e324a4576": {
     "views": []
    },
    "9b084a3ceda6431d96837503a135b054": {
     "views": []
    },
    "9ec62d91684341239c849b783878c16c": {
     "views": []
    },
    "9f59078d235843809c95fba9e2b18ecd": {
     "views": []
    },
    "a00d7a220556485c9a3438038ace3289": {
     "views": []
    },
    "a1ce68a22f4e41b29604ca28a56aa249": {
     "views": []
    },
    "a56fe364bb85486e85ec5fd971f9d970": {
     "views": []
    },
    "a598fa4abdcb42fdb8140ec3424c9349": {
     "views": []
    },
    "a66ad9ac637d4cb5bdaa46a808875834": {
     "views": []
    },
    "a6b98ee9a837483db1df84b2ba0c4720": {
     "views": []
    },
    "a7c0eeed2442489187823132a9f2721d": {
     "views": []
    },
    "a8485e1538b24e5ea73f0308fef00ab9": {
     "views": []
    },
    "a86898d56c1a4b51b6c5d3511aa00ebe": {
     "views": []
    },
    "a970e0d19c5e4902ad2a4edaee80710e": {
     "views": []
    },
    "a9a4f39710c946c3b02cd2695bab3235": {
     "views": []
    },
    "aa130cae67a14a7086e950da4c8934bc": {
     "views": []
    },
    "ab0da0cb9dbe41cfba3ed14d582393fa": {
     "views": []
    },
    "ab2cf6a6fe064e39af3873fe1f73368e": {
     "views": []
    },
    "ac1db7ba4f174bd0bccccad00a5e50ff": {
     "views": []
    },
    "aca9a5b3f80942268fbf17e9123e2508": {
     "views": []
    },
    "adf089f66170474f85c0eb391e8a3d82": {
     "views": []
    },
    "ae34a942b0884d59953f6e1f4593c67a": {
     "views": []
    },
    "b059c727be754d56a8b2489023feab0b": {
     "views": []
    },
    "b0d1ba10f677457f9d44ddf30d7e578c": {
     "views": []
    },
    "b1fb653b52e24d3eb2a968ff2de73bfd": {
     "views": []
    },
    "b4782268b7f54174b4a7c0d2a745fd9f": {
     "views": []
    },
    "b9904ea1dae74a3dad06cdf66f5157a1": {
     "views": []
    },
    "baa92503ad6b41f3adb1ce19c321d590": {
     "views": []
    },
    "be915ef38425489fada483d5f829dbb6": {
     "views": []
    },
    "c2a69b0c79e045afa407941b8d318757": {
     "views": []
    },
    "c4887b676a554b72aad26305e4eed13e": {
     "views": []
    },
    "c5e099450624461eaf4f84e4ddf152f8": {
     "views": [
      {
       "cell": {
        "cell_type": "code",
        "execution_count": 6,
        "metadata": {
         "collapsed": false,
         "trusted": true
        },
        "outputs": [
         {
          "data": {
           "text/html": "<math><mn>0.7</mn></math>",
           "text/latex": "0.7",
           "text/plain": "0.7"
          },
          "metadata": {},
          "output_type": "display_data"
         }
        ],
        "source": "Manipulate[x, {{x, 0.7}, -1, 1}]"
       },
       "cell_index": 9,
       "root": true
      }
     ]
    },
    "c636230201a34745ad3fe087ec238de4": {
     "views": [
      {
       "cell": {
        "cell_type": "code",
        "execution_count": 10,
        "metadata": {
         "collapsed": false,
         "trusted": true
        },
        "outputs": [
         {
          "data": {
           "text/html": "<math><mn>0.</mn></math>",
           "text/latex": "0.",
           "text/plain": "0."
          },
          "metadata": {},
          "output_type": "display_data"
         }
        ],
        "source": "Manipulate[x, {x, 0, 1}]     (* Real valued *)"
       },
       "cell_index": 16,
       "root": true
      }
     ]
    },
    "c86b18dec54b410e88a4610a190e314d": {
     "views": []
    },
    "caeeaa669a6e45dbb3f52177e2435418": {
     "views": []
    },
    "cdbb822e5993443590c8fdaa20e13c53": {
     "views": [
      {
       "cell": {
        "cell_type": "code",
        "execution_count": 6,
        "metadata": {
         "collapsed": false,
         "trusted": true
        },
        "outputs": [
         {
          "data": {
           "text/html": "<math><mn>0.7</mn></math>",
           "text/latex": "0.7",
           "text/plain": "0.7"
          },
          "metadata": {},
          "output_type": "display_data"
         }
        ],
        "source": "Manipulate[x, {{x, 0.7}, -1, 1}]"
       },
       "cell_index": 10,
       "root": true
      }
     ]
    },
    "cdfe579a883a4118bfe635e545f51378": {
     "views": []
    },
    "ceb89a0957f742a9958963d4ba3f9014": {
     "views": []
    },
    "cfaecc21c99b43c59c5f9ff1feb4917a": {
     "views": []
    },
    "d1390b30e0954c9aae0843ff5d10da5e": {
     "views": []
    },
    "d27b8711b8a4468d93bbd99466ac768c": {
     "views": []
    },
    "d2fd89ceac424c059e1eee27b083e2b5": {
     "views": []
    },
    "d467d92102844181b74bbdc4ee736cdb": {
     "views": []
    },
    "d720729ea0484e3091169e0cecdf32bb": {
     "views": []
    },
    "da556e2d21e74307b35aa90f9edc60a1": {
     "views": []
    },
    "db418774ed2e4fd99ba77478603f8ebf": {
     "views": []
    },
    "dbe34cc82df94dfcb3b516ed4bcbdea7": {
     "views": []
    },
    "dcc67da680d3446aa2ef45a2be812fc7": {
     "views": []
    },
    "dd8c7bfb601e414bb34e7215cfa7b278": {
     "views": []
    },
    "de337360c6b74a9a94872219c4249fbc": {
     "views": []
    },
    "e08c6c78d19d48a08a804bffe706c5e6": {
     "views": []
    },
    "e1d4026e3a054b2ebe2170134e48b3d5": {
     "views": [
      {
       "cell": {
        "cell_type": "code",
        "execution_count": 8,
        "metadata": {
         "collapsed": false,
         "trusted": true
        },
        "outputs": [
         {
          "data": {
           "text/html": "<math><mn>1.</mn></math>",
           "text/latex": "1.",
           "text/plain": "1."
          },
          "metadata": {},
          "output_type": "display_data"
         }
        ],
        "source": "Manipulate[x, {{x, 2}, 0, 1}]"
       },
       "cell_index": 13,
       "root": true
      }
     ]
    },
    "e1e959b204254755a67a903bfe5eabed": {
     "views": []
    },
    "e26bcbaf5d4c4e4da2bcf8b45e4f17e5": {
     "views": []
    },
    "e3af40b874ab42169155a64efeb3a4be": {
     "views": []
    },
    "e4a3e7a2c41b4dc2b18d91fa3e64163a": {
     "views": []
    },
    "e60b3a9a63024833aa8ce897afb04aac": {
     "views": []
    },
    "e66e7404ee904ecf8f9c325f714bcea9": {
     "views": []
    },
    "e7592d0a4c5747dcb565cd91248b7f05": {
     "views": []
    },
    "e9d2c31c61514b9f9afb4009914ca5d9": {
     "views": []
    },
    "ef94f577561943ce87650d3123ffb7b3": {
     "views": []
    },
    "f1ea0fbb70bf425f81694e4c35626388": {
     "views": []
    },
    "f387b7e1760841b0a2f23ef2f248475a": {
     "views": []
    },
    "f43b7586bf5c47b1b4a66cc57525667c": {
     "views": []
    },
    "f5fad6f53d6141b5921889171b772a42": {
     "views": []
    },
    "f62be45577084c0a998bc9016fecb69d": {
     "views": []
    },
    "f62be625165640d38edfa833382a8b0d": {
     "views": []
    },
    "f689fc9ef8b64a4b979a1e4e9def63b1": {
     "views": []
    },
    "f7333998dc064115bf7290e3bbf5cc32": {
     "views": []
    },
    "f79aadbb439d4798b95eda269f6e792e": {
     "views": []
    },
    "f9bd04b02c334bea879454dce314805a": {
     "views": []
    },
    "f9ec6b4656964c57af7f6947a95269ea": {
     "views": []
    },
    "fbd2915c32784a3087f16c42e40ebcdb": {
     "views": []
    },
    "fc0511978439426b91b3cb9db35adac3": {
     "views": []
    },
    "fc0aa29143c74c69b064a2667fdda86f": {
     "views": []
    },
    "fc389e45f3b44bd992d5450e471c2500": {
     "views": []
    },
    "fc539e61bd8741ba869da213db76f13e": {
     "views": []
    },
    "fcca1443f28349e4a73ce32053fd5458": {
     "views": []
    },
    "feb1ebfb05894ccab2705e16d61235ab": {
     "views": []
    },
    "ffee03dccce246fe9e31cc59d65c2190": {
     "views": []
    }
   },
   "version": "1.1.0"
  }
 },
 "nbformat": 4,
 "nbformat_minor": 0
}
