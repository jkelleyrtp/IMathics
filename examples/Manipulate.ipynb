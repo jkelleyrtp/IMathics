{
 "cells": [
  {
   "cell_type": "markdown",
   "metadata": {},
   "source": [
    "Manipulate\n",
    "==========\n",
    "Manipulate supports two forms, continuous and discrete."
   ]
  },
  {
   "cell_type": "code",
   "execution_count": 1,
   "metadata": {
    "collapsed": false
   },
   "outputs": [
    {
     "data": {
      "text/html": [
       "<math><mn>8</mn></math>"
      ],
      "text/latex": [
       "8"
      ],
      "text/plain": [
       "8"
      ]
     },
     "metadata": {},
     "output_type": "display_data"
    }
   ],
   "source": [
    "Manipulate[i ^ 3, {i, {2, x ^ 4, a}}]"
   ]
  },
  {
   "cell_type": "code",
   "execution_count": 2,
   "metadata": {
    "collapsed": false
   },
   "outputs": [
    {
     "data": {
      "text/html": [
       "<math><mn>0.841470984807896507</mn></math>"
      ],
      "text/latex": [
       "0.841470984807896507"
      ],
      "text/plain": [
       "0.841470984807896507"
      ]
     },
     "metadata": {},
     "output_type": "display_data"
    }
   ],
   "source": [
    "Manipulate[N[Sin[y]], {y, 1, 20, 2}]"
   ]
  },
  {
   "cell_type": "markdown",
   "metadata": {},
   "source": [
    "Multiple parameters can also be combined."
   ]
  },
  {
   "cell_type": "code",
   "execution_count": 3,
   "metadata": {
    "collapsed": false
   },
   "outputs": [
    {
     "data": {
      "text/html": [
       "<math><mrow><mo>-</mo> <mn>1.</mn></mrow></math>"
      ],
      "text/latex": [
       "-1."
      ],
      "text/plain": [
       "-1."
      ]
     },
     "metadata": {},
     "output_type": "display_data"
    }
   ],
   "source": [
    "Manipulate[i* x ^ y, {x, 1, 20}, {y, 1, 3}, {i, {-1, 1}}]"
   ]
  },
  {
   "cell_type": "markdown",
   "metadata": {},
   "source": [
    "Continuous manipulate also allows step increments:"
   ]
  },
  {
   "cell_type": "code",
   "execution_count": 4,
   "metadata": {
    "collapsed": false
   },
   "outputs": [
    {
     "data": {
      "text/html": [
       "<math><mrow><mo>-</mo> <mn>1.</mn></mrow></math>"
      ],
      "text/latex": [
       "-1."
      ],
      "text/plain": [
       "-1."
      ]
     },
     "metadata": {},
     "output_type": "display_data"
    }
   ],
   "source": [
    "Manipulate[x, {x, -1, 1, 0.2}]"
   ]
  },
  {
   "cell_type": "markdown",
   "metadata": {},
   "source": [
    "Labels\n",
    "======"
   ]
  },
  {
   "cell_type": "code",
   "execution_count": 5,
   "metadata": {
    "collapsed": false
   },
   "outputs": [
    {
     "data": {
      "text/html": [
       "<math><mn>0</mn></math>"
      ],
      "text/latex": [
       "0"
      ],
      "text/plain": [
       "0"
      ]
     },
     "metadata": {},
     "output_type": "display_data"
    }
   ],
   "source": [
    "Manipulate[Limit[Sin[k x] / x, x -> 0, Direction -> i], {k, 0, 2}, {i, {-1, 1}}]"
   ]
  },
  {
   "cell_type": "markdown",
   "metadata": {},
   "source": [
    "Error Handling\n",
    "=============="
   ]
  },
  {
   "cell_type": "markdown",
   "metadata": {},
   "source": [
    "Discrete\n",
    "--------"
   ]
  },
  {
   "cell_type": "code",
   "execution_count": 6,
   "metadata": {
    "collapsed": false
   },
   "outputs": [
    {
     "data": {
      "text/html": [
       "<math><mrow><mi>Manipulate</mi> <mo>[</mo> <mrow><mi>i</mi> <mo>,</mo> <mrow><mo>{</mo> <mrow><mi>i</mi> <mo>,</mo> <mrow><mo>{</mo> <mo>}</mo></mrow></mrow> <mo>}</mo></mrow></mrow> <mo>]</mo></mrow></math>"
      ],
      "text/latex": [
       "\\text{Manipulate}\\left[i,\\left\\{i,\\left\\{\\right\\}\\right\\}\\right]"
      ],
      "text/plain": [
       "Manipulate[i, {i, {}}]"
      ]
     },
     "execution_count": 6,
     "metadata": {},
     "output_type": "execute_result"
    }
   ],
   "source": [
    "Manipulate[i, {i, {}}]"
   ]
  },
  {
   "cell_type": "markdown",
   "metadata": {},
   "source": [
    "Continuous\n",
    "----------"
   ]
  },
  {
   "cell_type": "code",
   "execution_count": 7,
   "metadata": {
    "collapsed": false
   },
   "outputs": [
    {
     "name": "stderr",
     "output_type": "stream",
     "text": [
      "Manipulate::widgetargs: Illegal variable range or step parameters for x.\n"
     ]
    }
   ],
   "source": [
    "Manipulate[x, {x, 1, 0}]"
   ]
  },
  {
   "cell_type": "code",
   "execution_count": null,
   "metadata": {
    "collapsed": true
   },
   "outputs": [],
   "source": []
  }
 ],
 "metadata": {
  "kernelspec": {
   "display_name": "mathics",
   "language": "Mathematica",
   "name": "mathics"
  },
  "language_info": {
   "mimetype": "text/x-mathematica",
   "name": "Mathematica",
   "version": "1.0.dev1"
  },
  "widgets": {
   "state": {
    "021b3d91f8b64a3082f904dda1c5487d": {
     "views": [
      {
       "cell": {
        "cell_type": "code",
        "execution_count": 5,
        "metadata": {
         "collapsed": false,
         "trusted": true
        },
        "outputs": [
         {
          "data": {
           "text/html": "<math><mn>0</mn></math>",
           "text/latex": "0",
           "text/plain": "0"
          },
          "metadata": {},
          "output_type": "display_data"
         }
        ],
        "source": "Manipulate[Limit[Sin[k x] / x, x -> 0, Direction -> i], {k, 0, 2}, {i, {-1, 1}}]"
       },
       "cell_index": 8,
       "root": true
      }
     ]
    },
    "08e4d8ad8ae242469e220d10584073bd": {
     "views": []
    },
    "14be22bacfed47579a5e50b79ed1548e": {
     "views": []
    },
    "22575d42ce744424bdd8cb9968635b14": {
     "views": []
    },
    "2772cbdb09354d40bfbc4da29aa214a0": {
     "views": []
    },
    "2ad8a97da28f47c29abfee7d0255b092": {
     "views": [
      {
       "cell": {
        "cell_type": "code",
        "execution_count": 4,
        "metadata": {
         "collapsed": false,
         "trusted": true
        },
        "outputs": [
         {
          "data": {
           "text/html": "<math><mrow><mo>-</mo> <mn>1.</mn></mrow></math>",
           "text/latex": "-1.",
           "text/plain": "-1."
          },
          "metadata": {},
          "output_type": "display_data"
         }
        ],
        "source": "Manipulate[x, {x, -1, 1, 0.2}]"
       },
       "cell_index": 6,
       "root": true
      }
     ]
    },
    "2c1a6876d79c44c1bf9b190c66f8ea3d": {
     "views": []
    },
    "2e50fcaeeb9e4056943e1aa144529a6d": {
     "views": []
    },
    "34d6540044c7434c96ccc944d12074d9": {
     "views": [
      {
       "cell": {
        "cell_type": "code",
        "execution_count": 2,
        "metadata": {
         "collapsed": false,
         "trusted": true
        },
        "outputs": [
         {
          "data": {
           "text/html": "<math><mn>0.841470984807896507</mn></math>",
           "text/latex": "0.841470984807896507",
           "text/plain": "0.841470984807896507"
          },
          "metadata": {},
          "output_type": "display_data"
         }
        ],
        "source": "Manipulate[N[Sin[y]], {y, 1, 20, 2}]"
       },
       "cell_index": 2,
       "root": true
      }
     ]
    },
    "37308592fe0e4781807776f0624f8738": {
     "views": []
    },
    "3abbde7df14f4da0953b6631fb7daf5a": {
     "views": []
    },
    "4d312b7376ca49228979b6ea93956af6": {
     "views": []
    },
    "566a78eec48b471eaae725ea77bd36ce": {
     "views": []
    },
    "60e67ab0a6ef4860be0f0728d2e94e9d": {
     "views": [
      {
       "cell": {
        "cell_type": "code",
        "execution_count": 3,
        "metadata": {
         "collapsed": false,
         "trusted": true
        },
        "outputs": [
         {
          "data": {
           "text/html": "<math><mrow><mo>-</mo> <mn>1.</mn></mrow></math>",
           "text/latex": "-1.",
           "text/plain": "-1."
          },
          "metadata": {},
          "output_type": "display_data"
         }
        ],
        "source": "Manipulate[i* x ^ y, {x, 1, 20}, {y, 1, 3}, {i, {-1, 1}}]"
       },
       "cell_index": 4,
       "root": true
      }
     ]
    },
    "665990abf8774046a2899267ef208ba2": {
     "views": []
    },
    "67a81b20d01e4070928a5df92d531cec": {
     "views": []
    },
    "80cfd779f8444d098ed9ce362a5ce10b": {
     "views": [
      {
       "cell": {
        "cell_type": "code",
        "execution_count": 1,
        "metadata": {
         "collapsed": false,
         "trusted": true
        },
        "outputs": [
         {
          "data": {
           "text/html": "<math><mn>8</mn></math>",
           "text/latex": "8",
           "text/plain": "8"
          },
          "metadata": {},
          "output_type": "display_data"
         }
        ],
        "source": "Manipulate[i ^ 3, {i, {2, x ^ 4, a}}]"
       },
       "cell_index": 1,
       "root": true
      }
     ]
    },
    "8810c2d1e7a4401889753426b23d4bb0": {
     "views": []
    },
    "90bbdbd4acb94a3b9f44816638d2b622": {
     "views": []
    },
    "9f3de825544f42cc88518397e2513f52": {
     "views": []
    },
    "a75ea68f705244c9a34f97970559412d": {
     "views": []
    },
    "aada7de699414ab49956295c719737dc": {
     "views": []
    },
    "ac8130710af74e7c93ab616eada16894": {
     "views": []
    },
    "c32ef52bf0994272b70f027abdbc75aa": {
     "views": []
    },
    "d29df22c92df4625b89323fee0473189": {
     "views": []
    },
    "eb20c4ae94034332b8c7508bec688e1b": {
     "views": []
    }
   },
   "version": "1.1.0"
  }
 },
 "nbformat": 4,
 "nbformat_minor": 0
}
